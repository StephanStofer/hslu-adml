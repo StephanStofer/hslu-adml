{
 "cells": [
  {
   "cell_type": "markdown",
   "metadata": {},
   "source": [
    "# Artificial Neural Networks\n",
    "In this exercise, several parts of the code are missing, which should be completed by you. "
   ]
  },
  {
   "cell_type": "code",
   "execution_count": 4,
   "metadata": {},
   "outputs": [],
   "source": [
    "import numpy as np\n",
    "import pandas as pd\n",
    "from matplotlib import pyplot as plt\n",
    "\n",
    "import sklearn\n",
    "from sklearn.linear_model import Perceptron\n",
    "from sklearn.neural_network import MLPClassifier\n",
    "from sklearn.metrics import accuracy_score, f1_score\n",
    "from sklearn.model_selection import train_test_split\n",
    "from tqdm.notebook import tqdm\n",
    "import seaborn as sns\n",
    "from sklearn.metrics import accuracy_score\n",
    "sns.set()\n",
    "\n",
    "%matplotlib inline"
   ]
  },
  {
   "cell_type": "markdown",
   "metadata": {},
   "source": [
    "## MLP for Skin disease dataset using `scikit-learn`"
   ]
  },
  {
   "cell_type": "markdown",
   "metadata": {},
   "source": [
    "Now let us apply a neural network on the skin disesase data. To reduce the training time we reduce the amount of data in our dataset."
   ]
  },
  {
   "cell_type": "code",
   "execution_count": 5,
   "metadata": {},
   "outputs": [
    {
     "data": {
      "text/html": [
       "<div>\n",
       "<style scoped>\n",
       "    .dataframe tbody tr th:only-of-type {\n",
       "        vertical-align: middle;\n",
       "    }\n",
       "\n",
       "    .dataframe tbody tr th {\n",
       "        vertical-align: top;\n",
       "    }\n",
       "\n",
       "    .dataframe thead th {\n",
       "        text-align: right;\n",
       "    }\n",
       "</style>\n",
       "<table border=\"1\" class=\"dataframe\">\n",
       "  <thead>\n",
       "    <tr style=\"text-align: right;\">\n",
       "      <th></th>\n",
       "      <th>class</th>\n",
       "      <th>t0</th>\n",
       "      <th>t1</th>\n",
       "      <th>t2</th>\n",
       "      <th>t3</th>\n",
       "      <th>t4</th>\n",
       "      <th>t5</th>\n",
       "      <th>t6</th>\n",
       "      <th>t7</th>\n",
       "      <th>t8</th>\n",
       "      <th>t9</th>\n",
       "      <th>t10</th>\n",
       "      <th>t11</th>\n",
       "      <th>t12</th>\n",
       "      <th>t13</th>\n",
       "    </tr>\n",
       "  </thead>\n",
       "  <tbody>\n",
       "    <tr>\n",
       "      <th>399763</th>\n",
       "      <td>0</td>\n",
       "      <td>0.0</td>\n",
       "      <td>1.0</td>\n",
       "      <td>147.006546</td>\n",
       "      <td>143.778107</td>\n",
       "      <td>154.446762</td>\n",
       "      <td>0.683331</td>\n",
       "      <td>1.200395</td>\n",
       "      <td>4.162486</td>\n",
       "      <td>0.342579</td>\n",
       "      <td>0.438565</td>\n",
       "      <td>-1.637385</td>\n",
       "      <td>0.931025</td>\n",
       "      <td>1.535766</td>\n",
       "      <td>5.316552</td>\n",
       "    </tr>\n",
       "    <tr>\n",
       "      <th>179351</th>\n",
       "      <td>0</td>\n",
       "      <td>0.0</td>\n",
       "      <td>1.0</td>\n",
       "      <td>148.038666</td>\n",
       "      <td>141.652588</td>\n",
       "      <td>151.419388</td>\n",
       "      <td>1.005779</td>\n",
       "      <td>0.772486</td>\n",
       "      <td>3.608217</td>\n",
       "      <td>-0.598483</td>\n",
       "      <td>0.419350</td>\n",
       "      <td>1.930153</td>\n",
       "      <td>1.399444</td>\n",
       "      <td>1.031002</td>\n",
       "      <td>4.742771</td>\n",
       "    </tr>\n",
       "    <tr>\n",
       "      <th>489030</th>\n",
       "      <td>1</td>\n",
       "      <td>0.0</td>\n",
       "      <td>1.0</td>\n",
       "      <td>146.840973</td>\n",
       "      <td>140.802795</td>\n",
       "      <td>138.360687</td>\n",
       "      <td>1.595206</td>\n",
       "      <td>2.676929</td>\n",
       "      <td>5.883652</td>\n",
       "      <td>-1.607611</td>\n",
       "      <td>-2.674804</td>\n",
       "      <td>5.202581</td>\n",
       "      <td>2.284131</td>\n",
       "      <td>3.653879</td>\n",
       "      <td>8.494467</td>\n",
       "    </tr>\n",
       "    <tr>\n",
       "      <th>225829</th>\n",
       "      <td>0</td>\n",
       "      <td>0.0</td>\n",
       "      <td>1.0</td>\n",
       "      <td>146.447952</td>\n",
       "      <td>145.673996</td>\n",
       "      <td>125.780487</td>\n",
       "      <td>1.557866</td>\n",
       "      <td>2.570986</td>\n",
       "      <td>6.929062</td>\n",
       "      <td>-1.375071</td>\n",
       "      <td>-2.344707</td>\n",
       "      <td>6.854708</td>\n",
       "      <td>2.102766</td>\n",
       "      <td>3.587329</td>\n",
       "      <td>10.010593</td>\n",
       "    </tr>\n",
       "    <tr>\n",
       "      <th>243109</th>\n",
       "      <td>1</td>\n",
       "      <td>0.0</td>\n",
       "      <td>1.0</td>\n",
       "      <td>145.647827</td>\n",
       "      <td>146.265915</td>\n",
       "      <td>159.128494</td>\n",
       "      <td>0.985775</td>\n",
       "      <td>1.698258</td>\n",
       "      <td>5.269435</td>\n",
       "      <td>-0.727311</td>\n",
       "      <td>-1.214882</td>\n",
       "      <td>-4.540771</td>\n",
       "      <td>1.268871</td>\n",
       "      <td>2.254031</td>\n",
       "      <td>7.528327</td>\n",
       "    </tr>\n",
       "  </tbody>\n",
       "</table>\n",
       "</div>"
      ],
      "text/plain": [
       "        class   t0   t1          t2          t3          t4        t5  \\\n",
       "399763      0  0.0  1.0  147.006546  143.778107  154.446762  0.683331   \n",
       "179351      0  0.0  1.0  148.038666  141.652588  151.419388  1.005779   \n",
       "489030      1  0.0  1.0  146.840973  140.802795  138.360687  1.595206   \n",
       "225829      0  0.0  1.0  146.447952  145.673996  125.780487  1.557866   \n",
       "243109      1  0.0  1.0  145.647827  146.265915  159.128494  0.985775   \n",
       "\n",
       "              t6        t7        t8        t9       t10       t11       t12  \\\n",
       "399763  1.200395  4.162486  0.342579  0.438565 -1.637385  0.931025  1.535766   \n",
       "179351  0.772486  3.608217 -0.598483  0.419350  1.930153  1.399444  1.031002   \n",
       "489030  2.676929  5.883652 -1.607611 -2.674804  5.202581  2.284131  3.653879   \n",
       "225829  2.570986  6.929062 -1.375071 -2.344707  6.854708  2.102766  3.587329   \n",
       "243109  1.698258  5.269435 -0.727311 -1.214882 -4.540771  1.268871  2.254031   \n",
       "\n",
       "              t13  \n",
       "399763   5.316552  \n",
       "179351   4.742771  \n",
       "489030   8.494467  \n",
       "225829  10.010593  \n",
       "243109   7.528327  "
      ]
     },
     "execution_count": 5,
     "metadata": {},
     "output_type": "execute_result"
    }
   ],
   "source": [
    "df = pd.read_csv(\"skin_disease.csv\")\n",
    "df = df.sample(frac=1)\n",
    "df = df.iloc[0:100000]\n",
    "df.head()"
   ]
  },
  {
   "cell_type": "code",
   "execution_count": 6,
   "metadata": {},
   "outputs": [],
   "source": [
    "X = df.drop(columns=[\"class\"])\n",
    "y = df[\"class\"]"
   ]
  },
  {
   "cell_type": "markdown",
   "metadata": {},
   "source": [
    "> Split the data into a train and test set. Use 40% of the data for the test set."
   ]
  },
  {
   "cell_type": "code",
   "execution_count": 7,
   "metadata": {
    "solution2": "hidden",
    "solution2_first": true
   },
   "outputs": [],
   "source": [
    "X_train, X_test, y_train, y_test = train_test_split(X, y, test_size=0.4, random_state=42)"
   ]
  },
  {
   "cell_type": "code",
   "execution_count": null,
   "metadata": {
    "solution2": "hidden"
   },
   "outputs": [],
   "source": [
    "X_train, X_test, y_train, y_test = train_test_split(X, y, test_size=0.4, random_state=42)"
   ]
  },
  {
   "cell_type": "markdown",
   "metadata": {},
   "source": [
    "We define our Multi Layer Perceptron with 2 hidden layers. This time we use the [MLPClassifier](https://scikit-learn.org/stable/modules/generated/sklearn.neural_network.MLPClassifier.html) implementation from Scikit-Learn."
   ]
  },
  {
   "cell_type": "code",
   "execution_count": 5,
   "metadata": {},
   "outputs": [],
   "source": [
    "mlp = MLPClassifier(hidden_layer_sizes=(30,15),\n",
    "                    activation='relu',  # activation function\n",
    "                    solver='adam',  # optimizer\n",
    "                    batch_size=1024)  # size of minibatches"
   ]
  },
  {
   "cell_type": "markdown",
   "metadata": {},
   "source": [
    "> Train the neural network on `X_train`, `y_train` and plot the loss by accessing the attribute `loss_curve_`."
   ]
  },
  {
   "cell_type": "code",
   "execution_count": 11,
   "metadata": {},
   "outputs": [],
   "source": [
    "def plot_costs(costs):\n",
    "    fig, ax = plt.subplots()\n",
    "    ax.plot(costs)\n",
    "    ax.set_title(\"Loss curve\")\n",
    "    plt.show()"
   ]
  },
  {
   "cell_type": "code",
   "execution_count": 8,
   "metadata": {
    "solution2": "hidden",
    "solution2_first": true
   },
   "outputs": [
    {
     "name": "stderr",
     "output_type": "stream",
     "text": [
      "/Library/Frameworks/Python.framework/Versions/3.7/lib/python3.7/site-packages/sklearn/neural_network/_multilayer_perceptron.py:585: ConvergenceWarning: Stochastic Optimizer: Maximum iterations (200) reached and the optimization hasn't converged yet.\n",
      "  % self.max_iter, ConvergenceWarning)\n"
     ]
    },
    {
     "data": {
      "image/png": "[encoded data removed]",
      "text/plain": [
       "<Figure size 432x288 with 1 Axes>"
      ]
     },
     "metadata": {
      "needs_background": "light"
     },
     "output_type": "display_data"
    }
   ],
   "source": [
    "mlp.fit(X_train, y_train)\n",
    "plot_costs(mlp.loss_curve_)"
   ]
  },
  {
   "cell_type": "code",
   "execution_count": null,
   "metadata": {
    "solution2": "hidden"
   },
   "outputs": [],
   "source": [
    "mlp.fit(X_train, y_train)\n",
    "plot_costs(mlp.loss_curve_)"
   ]
  },
  {
   "cell_type": "markdown",
   "metadata": {},
   "source": [
    "> Implement your own predict function. For that we'll need an activation function for the hidden layers, in our case `relu` and for the output layer `sigmoid`."
   ]
  },
  {
   "cell_type": "code",
   "execution_count": 9,
   "metadata": {
    "solution2": "hidden",
    "solution2_first": true
   },
   "outputs": [],
   "source": [
    "def relu(x):\n",
    "    ### START YOUR CODE ###\n",
    "    return np.maximum(0, x)\n",
    "    #if x > 0:\n",
    "    #    return x\n",
    "    #else:\n",
    "    #    return 0\n",
    "    ### END YOUR CODE ###\n",
    "    pass"
   ]
  },
  {
   "cell_type": "code",
   "execution_count": null,
   "metadata": {
    "solution2": "hidden"
   },
   "outputs": [],
   "source": [
    "def relu(x):\n",
    "    return np.maximum(0, x)"
   ]
  },
  {
   "cell_type": "code",
   "execution_count": 12,
   "metadata": {
    "solution2": "hidden",
    "solution2_first": true
   },
   "outputs": [],
   "source": [
    "def sigmoid(x):\n",
    "    ### START YOUR CODE ###\n",
    "    return (1/(1+np.exp(-x)))\n",
    "    ### END YOUR CODE ###\n",
    "    pass"
   ]
  },
  {
   "cell_type": "code",
   "execution_count": null,
   "metadata": {
    "solution2": "hidden"
   },
   "outputs": [],
   "source": [
    "def sigmoid(x):\n",
    "    return 1/(1+np.exp(-x))"
   ]
  },
  {
   "cell_type": "code",
   "execution_count": 10,
   "metadata": {
    "solution2": "hidden",
    "solution2_first": true
   },
   "outputs": [],
   "source": [
    "def predict(mlp, X):\n",
    "    ### START YOUR CODE ###\n",
    "    A = X\n",
    "    \n",
    "    # forward propagate through layers\n",
    "    for i, (W, B) in enumerate(zip(mlp.coefs_, mlp.intercepts_)):\n",
    "        z = A.dot(W) + B\n",
    "        # if hidden layer, apply `relu`\n",
    "        if i != mlp.n_layers_ - 2:\n",
    "            A = relu(z)\n",
    "            \n",
    "    # last layer output activation `sigmoid`\n",
    "    out = sigmoid(z)  \n",
    "    # transform to 1-D and threshold\n",
    "    out = np.squeeze(out)\n",
    "    out = np.array(out > 0.5, dtype=int)\n",
    "    \n",
    "    return out\n",
    "    ### END YOUR CODE ###\n",
    "    \n",
    "    pass"
   ]
  },
  {
   "cell_type": "code",
   "execution_count": null,
   "metadata": {
    "solution2": "hidden"
   },
   "outputs": [],
   "source": [
    "def predict(mlp, X):\n",
    "    # define the first activations, e.g. inputs\n",
    "    A = X\n",
    "    \n",
    "    # forward propagate through layers\n",
    "    for i, (W, B) in enumerate(zip(mlp.coefs_, mlp.intercepts_)):\n",
    "        z = A.dot(W) + B\n",
    "        # if hidden layer, apply `relu`\n",
    "        if i != mlp.n_layers_ - 2:\n",
    "            A = relu(z)\n",
    "            \n",
    "    # last layer output activation `sigmoid`\n",
    "    out = sigmoid(z)  \n",
    "    # transform to 1-D and threshold\n",
    "    out = np.squeeze(out)\n",
    "    out = np.array(out > 0.5, dtype=int)\n",
    "    \n",
    "    return out"
   ]
  },
  {
   "cell_type": "markdown",
   "metadata": {},
   "source": [
    "> Test your implementation with the scikit-learn predict function."
   ]
  },
  {
   "cell_type": "code",
   "execution_count": 15,
   "metadata": {
    "solution2": "hidden",
    "solution2_first": true
   },
   "outputs": [
    {
     "name": "stdout",
     "output_type": "stream",
     "text": [
      "Are the outputs the same: True\n"
     ]
    }
   ],
   "source": [
    "y_pred_scikit = mlp.predict(X_test)\n",
    "y_pred_own = predict(mlp, X_test.values)\n",
    "\n",
    "print('Are the outputs the same: %s' % (y_pred_scikit == y_pred_own).all() )"
   ]
  },
  {
   "cell_type": "code",
   "execution_count": null,
   "metadata": {
    "solution2": "hidden"
   },
   "outputs": [],
   "source": [
    "y_pred_scikit = mlp.predict(X_test)\n",
    "y_pred_own = predict(mlp, X_test.values)\n",
    "\n",
    "print('Are the outputs the same: %s' % (y_pred_scikit == y_pred_own).all())"
   ]
  },
  {
   "cell_type": "markdown",
   "metadata": {},
   "source": [
    "> Predict the values on the test set and calculate the accuracy and the f1-score."
   ]
  },
  {
   "cell_type": "code",
   "execution_count": 16,
   "metadata": {
    "solution2": "hidden",
    "solution2_first": true
   },
   "outputs": [
    {
     "name": "stdout",
     "output_type": "stream",
     "text": [
      "Accuracy: 0.9568\n",
      "F1: 0.7548\n"
     ]
    }
   ],
   "source": [
    "y_pred = predict(mlp, X_test.values)\n",
    "\n",
    "accuracy = accuracy_score(y_test, y_pred)\n",
    "f1 = f1_score(y_test, y_pred)\n",
    "\n",
    "print(\"Accuracy: %.4f\" % accuracy)\n",
    "print(\"F1: %.4f\" % f1)"
   ]
  },
  {
   "cell_type": "code",
   "execution_count": null,
   "metadata": {
    "solution2": "hidden"
   },
   "outputs": [],
   "source": [
    "y_pred = predict(mlp, X_test.values)\n",
    "\n",
    "accuracy = accuracy_score(y_test, y_pred)\n",
    "f1 = f1_score(y_test, y_pred)\n",
    "\n",
    "print(\"Accuracy: %.4f\" % accuracy)\n",
    "print(\"F1: %.4f\" % f1)"
   ]
  },
  {
   "cell_type": "markdown",
   "metadata": {},
   "source": [
    "## MLP for Skin disease dataset using `TensorFlow`\n",
    "In practice, the MLP from `scikit-learn` is never used because of the lack of customisation and the absence of GPU training. `TensorFlow` is a library specialised in deep learning and therefore also has implementations for advanced techniques. Thus the section below is a quick introduction to how the same network can be implemented using `TensorFlow`. The networks' results do not need to be the same, since as mentioned above, the `scikit-learn` implementation can not be as customised as the `TensorFlow` one. \n",
    "\n",
    "If `TensorFlow` is not already installed on the environment, it can be done using the \"magic\" cell from below. If it is already installed, make sure to use version `2.3.1`. Higher versions should also work but weren't tested."
   ]
  },
  {
   "cell_type": "code",
   "execution_count": 20,
   "metadata": {
    "scrolled": true
   },
   "outputs": [
    {
     "name": "stdout",
     "output_type": "stream",
     "text": [
      "\u001b[31mERROR: Could not find a version that satisfies the requirement tensorflow==2.3.1\u001b[0m\r\n",
      "\u001b[31mERROR: No matching distribution found for tensorflow==2.3.1\u001b[0m\r\n"
     ]
    }
   ],
   "source": [
    "!pip install tensorflow==2.3.1"
   ]
  },
  {
   "cell_type": "code",
   "execution_count": 2,
   "metadata": {},
   "outputs": [
    {
     "name": "stdout",
     "output_type": "stream",
     "text": [
      "2.1.0\n"
     ]
    }
   ],
   "source": [
    "import tensorflow as tf\n",
    "\n",
    "#assert tf.__version__ == '2.3.1'\n",
    "print(tf.__version__)"
   ]
  },
  {
   "cell_type": "markdown",
   "metadata": {},
   "source": [
    "A model in `TensorFlow` can be implemented using the `Sequential API`, which enables for easy extensibility by calling `.add()`. To implement the same MLP as above, we can sequentially add `Dense` layers to the model. Here the customization possibilities compared to `scikit-learn` is evident. For example, the activation function can be set for each layer separately, which was impossible before."
   ]
  },
  {
   "cell_type": "code",
   "execution_count": 8,
   "metadata": {},
   "outputs": [
    {
     "name": "stdout",
     "output_type": "stream",
     "text": [
      "Model: \"sequential\"\n",
      "_________________________________________________________________\n",
      "Layer (type)                 Output Shape              Param #   \n",
      "=================================================================\n",
      "dense (Dense)                (None, 30)                450       \n",
      "_________________________________________________________________\n",
      "dense_1 (Dense)              (None, 15)                465       \n",
      "_________________________________________________________________\n",
      "dense_2 (Dense)              (None, 1)                 16        \n",
      "=================================================================\n",
      "Total params: 931\n",
      "Trainable params: 931\n",
      "Non-trainable params: 0\n",
      "_________________________________________________________________\n"
     ]
    }
   ],
   "source": [
    "dataset_dim = X_train.shape[1]\n",
    "\n",
    "model = tf.keras.models.Sequential()\n",
    "model.add(tf.keras.layers.Dense(30, input_shape=(dataset_dim, ), activation='relu'))\n",
    "model.add(tf.keras.layers.Dense(15, activation='relu'))\n",
    "model.add(tf.keras.layers.Dense(1, activation='sigmoid'))\n",
    "model.summary()"
   ]
  },
  {
   "cell_type": "markdown",
   "metadata": {},
   "source": [
    "After defining the model, it needs to be compiled using an optimizer and loss function. In our case, we'll use adam as optimizer and binary cross-entropy as loss. Now the model can be trained by specifying the number of epochs and the batch size. "
   ]
  },
  {
   "cell_type": "code",
   "execution_count": 9,
   "metadata": {},
   "outputs": [
    {
     "name": "stdout",
     "output_type": "stream",
     "text": [
      "Train on 60000 samples\n",
      "Epoch 1/150\n",
      "60000/60000 [==============================] - 0s 5us/sample - loss: 1.3811 - accuracy: 0.8139\n",
      "Epoch 2/150\n",
      "60000/60000 [==============================] - 0s 1us/sample - loss: 0.3723 - accuracy: 0.8989\n",
      "Epoch 3/150\n",
      "60000/60000 [==============================] - 0s 1us/sample - loss: 0.3024 - accuracy: 0.9094\n",
      "Epoch 4/150\n",
      "60000/60000 [==============================] - 0s 1us/sample - loss: 0.2633 - accuracy: 0.9122\n",
      "Epoch 5/150\n",
      "60000/60000 [==============================] - 0s 1us/sample - loss: 0.2345 - accuracy: 0.9145\n",
      "Epoch 6/150\n",
      "60000/60000 [==============================] - 0s 1us/sample - loss: 0.2150 - accuracy: 0.9197\n",
      "Epoch 7/150\n",
      "60000/60000 [==============================] - 0s 1us/sample - loss: 0.2037 - accuracy: 0.9232\n",
      "Epoch 8/150\n",
      "60000/60000 [==============================] - 0s 1us/sample - loss: 0.1963 - accuracy: 0.9259\n",
      "Epoch 9/150\n",
      "60000/60000 [==============================] - 0s 1us/sample - loss: 0.1909 - accuracy: 0.9284\n",
      "Epoch 10/150\n",
      "60000/60000 [==============================] - 0s 1us/sample - loss: 0.1861 - accuracy: 0.9305\n",
      "Epoch 11/150\n",
      "60000/60000 [==============================] - 0s 1us/sample - loss: 0.1814 - accuracy: 0.9315\n",
      "Epoch 12/150\n",
      "60000/60000 [==============================] - 0s 1us/sample - loss: 0.1774 - accuracy: 0.9328\n",
      "Epoch 13/150\n",
      "60000/60000 [==============================] - 0s 1us/sample - loss: 0.1741 - accuracy: 0.9343\n",
      "Epoch 14/150\n",
      "60000/60000 [==============================] - 0s 1us/sample - loss: 0.1724 - accuracy: 0.9355\n",
      "Epoch 15/150\n",
      "60000/60000 [==============================] - 0s 1us/sample - loss: 0.1693 - accuracy: 0.9362\n",
      "Epoch 16/150\n",
      "60000/60000 [==============================] - 0s 1us/sample - loss: 0.1676 - accuracy: 0.9361\n",
      "Epoch 17/150\n",
      "60000/60000 [==============================] - 0s 1us/sample - loss: 0.1652 - accuracy: 0.9368\n",
      "Epoch 18/150\n",
      "60000/60000 [==============================] - 0s 1us/sample - loss: 0.1637 - accuracy: 0.9372\n",
      "Epoch 19/150\n",
      "60000/60000 [==============================] - 0s 1us/sample - loss: 0.1629 - accuracy: 0.9373\n",
      "Epoch 20/150\n",
      "60000/60000 [==============================] - 0s 1us/sample - loss: 0.1630 - accuracy: 0.9365\n",
      "Epoch 21/150\n",
      "60000/60000 [==============================] - 0s 1us/sample - loss: 0.1613 - accuracy: 0.9379\n",
      "Epoch 22/150\n",
      "60000/60000 [==============================] - 0s 1us/sample - loss: 0.1580 - accuracy: 0.9387\n",
      "Epoch 23/150\n",
      "60000/60000 [==============================] - 0s 1us/sample - loss: 0.1572 - accuracy: 0.9388\n",
      "Epoch 24/150\n",
      "60000/60000 [==============================] - 0s 1us/sample - loss: 0.1554 - accuracy: 0.9395\n",
      "Epoch 25/150\n",
      "60000/60000 [==============================] - 0s 1us/sample - loss: 0.1548 - accuracy: 0.9393\n",
      "Epoch 26/150\n",
      "60000/60000 [==============================] - 0s 1us/sample - loss: 0.1537 - accuracy: 0.9394\n",
      "Epoch 27/150\n",
      "60000/60000 [==============================] - 0s 1us/sample - loss: 0.1544 - accuracy: 0.9391\n",
      "Epoch 28/150\n",
      "60000/60000 [==============================] - 0s 1us/sample - loss: 0.1538 - accuracy: 0.9387\n",
      "Epoch 29/150\n",
      "60000/60000 [==============================] - 0s 1us/sample - loss: 0.1510 - accuracy: 0.9406\n",
      "Epoch 30/150\n",
      "60000/60000 [==============================] - 0s 1us/sample - loss: 0.1510 - accuracy: 0.9401\n",
      "Epoch 31/150\n",
      "60000/60000 [==============================] - 0s 1us/sample - loss: 0.1513 - accuracy: 0.9395\n",
      "Epoch 32/150\n",
      "60000/60000 [==============================] - 0s 1us/sample - loss: 0.1536 - accuracy: 0.9384\n",
      "Epoch 33/150\n",
      "60000/60000 [==============================] - 0s 1us/sample - loss: 0.1500 - accuracy: 0.9397\n",
      "Epoch 34/150\n",
      "60000/60000 [==============================] - 0s 1us/sample - loss: 0.1481 - accuracy: 0.9412\n",
      "Epoch 35/150\n",
      "60000/60000 [==============================] - 0s 1us/sample - loss: 0.1480 - accuracy: 0.9408\n",
      "Epoch 36/150\n",
      "60000/60000 [==============================] - 0s 1us/sample - loss: 0.1490 - accuracy: 0.9404\n",
      "Epoch 37/150\n",
      "60000/60000 [==============================] - 0s 1us/sample - loss: 0.1493 - accuracy: 0.9403\n",
      "Epoch 38/150\n",
      "60000/60000 [==============================] - 0s 1us/sample - loss: 0.1462 - accuracy: 0.9413\n",
      "Epoch 39/150\n",
      "60000/60000 [==============================] - 0s 1us/sample - loss: 0.1469 - accuracy: 0.9412\n",
      "Epoch 40/150\n",
      "60000/60000 [==============================] - 0s 1us/sample - loss: 0.1474 - accuracy: 0.9411\n",
      "Epoch 41/150\n",
      "60000/60000 [==============================] - 0s 1us/sample - loss: 0.1459 - accuracy: 0.9413\n",
      "Epoch 42/150\n",
      "60000/60000 [==============================] - 0s 1us/sample - loss: 0.1463 - accuracy: 0.9410\n",
      "Epoch 43/150\n",
      "60000/60000 [==============================] - 0s 1us/sample - loss: 0.1475 - accuracy: 0.9409\n",
      "Epoch 44/150\n",
      "60000/60000 [==============================] - 0s 1us/sample - loss: 0.1493 - accuracy: 0.9403\n",
      "Epoch 45/150\n",
      "60000/60000 [==============================] - 0s 1us/sample - loss: 0.1473 - accuracy: 0.9407\n",
      "Epoch 46/150\n",
      "60000/60000 [==============================] - 0s 1us/sample - loss: 0.1439 - accuracy: 0.9420\n",
      "Epoch 47/150\n",
      "60000/60000 [==============================] - 0s 1us/sample - loss: 0.1438 - accuracy: 0.9424\n",
      "Epoch 48/150\n",
      "60000/60000 [==============================] - 0s 1us/sample - loss: 0.1447 - accuracy: 0.9417\n",
      "Epoch 49/150\n",
      "60000/60000 [==============================] - 0s 1us/sample - loss: 0.1456 - accuracy: 0.9420\n",
      "Epoch 50/150\n",
      "60000/60000 [==============================] - 0s 1us/sample - loss: 0.1435 - accuracy: 0.9423\n",
      "Epoch 51/150\n",
      "60000/60000 [==============================] - 0s 1us/sample - loss: 0.1420 - accuracy: 0.9424\n",
      "Epoch 52/150\n",
      "60000/60000 [==============================] - 0s 1us/sample - loss: 0.1421 - accuracy: 0.9433\n",
      "Epoch 53/150\n",
      "60000/60000 [==============================] - 0s 1us/sample - loss: 0.1423 - accuracy: 0.9430\n",
      "Epoch 54/150\n",
      "60000/60000 [==============================] - 0s 1us/sample - loss: 0.1418 - accuracy: 0.9423\n",
      "Epoch 55/150\n",
      "60000/60000 [==============================] - 0s 1us/sample - loss: 0.1413 - accuracy: 0.9431\n",
      "Epoch 56/150\n",
      "60000/60000 [==============================] - 0s 1us/sample - loss: 0.1416 - accuracy: 0.9424\n",
      "Epoch 57/150\n",
      "60000/60000 [==============================] - 0s 1us/sample - loss: 0.1428 - accuracy: 0.9427\n",
      "Epoch 58/150\n",
      "60000/60000 [==============================] - 0s 1us/sample - loss: 0.1421 - accuracy: 0.9426\n",
      "Epoch 59/150\n",
      "60000/60000 [==============================] - 0s 1us/sample - loss: 0.1417 - accuracy: 0.9426\n",
      "Epoch 60/150\n",
      "60000/60000 [==============================] - 0s 1us/sample - loss: 0.1407 - accuracy: 0.9434\n",
      "Epoch 61/150\n",
      "60000/60000 [==============================] - 0s 1us/sample - loss: 0.1418 - accuracy: 0.9425\n",
      "Epoch 62/150\n",
      "60000/60000 [==============================] - 0s 1us/sample - loss: 0.1387 - accuracy: 0.9437\n",
      "Epoch 63/150\n",
      "60000/60000 [==============================] - 0s 1us/sample - loss: 0.1423 - accuracy: 0.9424\n",
      "Epoch 64/150\n",
      "60000/60000 [==============================] - 0s 1us/sample - loss: 0.1409 - accuracy: 0.9435\n",
      "Epoch 65/150\n",
      "60000/60000 [==============================] - 0s 1us/sample - loss: 0.1378 - accuracy: 0.9449\n",
      "Epoch 66/150\n",
      "60000/60000 [==============================] - 0s 1us/sample - loss: 0.1402 - accuracy: 0.9444\n",
      "Epoch 67/150\n",
      "60000/60000 [==============================] - 0s 1us/sample - loss: 0.1393 - accuracy: 0.9437\n",
      "Epoch 68/150\n",
      "60000/60000 [==============================] - 0s 1us/sample - loss: 0.1383 - accuracy: 0.9446\n",
      "Epoch 69/150\n",
      "60000/60000 [==============================] - 0s 1us/sample - loss: 0.1376 - accuracy: 0.9443\n",
      "Epoch 70/150\n",
      "60000/60000 [==============================] - 0s 1us/sample - loss: 0.1369 - accuracy: 0.9454\n",
      "Epoch 71/150\n",
      "60000/60000 [==============================] - 0s 1us/sample - loss: 0.1386 - accuracy: 0.9439\n",
      "Epoch 72/150\n",
      "60000/60000 [==============================] - 0s 1us/sample - loss: 0.1405 - accuracy: 0.9442\n",
      "Epoch 73/150\n",
      "60000/60000 [==============================] - 0s 1us/sample - loss: 0.1391 - accuracy: 0.9441\n",
      "Epoch 74/150\n",
      "60000/60000 [==============================] - 0s 1us/sample - loss: 0.1402 - accuracy: 0.9433\n",
      "Epoch 75/150\n",
      "60000/60000 [==============================] - 0s 1us/sample - loss: 0.1366 - accuracy: 0.9448\n",
      "Epoch 76/150\n"
     ]
    },
    {
     "name": "stdout",
     "output_type": "stream",
     "text": [
      "60000/60000 [==============================] - 0s 1us/sample - loss: 0.1369 - accuracy: 0.9446\n",
      "Epoch 77/150\n",
      "60000/60000 [==============================] - 0s 1us/sample - loss: 0.1359 - accuracy: 0.9451\n",
      "Epoch 78/150\n",
      "60000/60000 [==============================] - 0s 1us/sample - loss: 0.1359 - accuracy: 0.9454\n",
      "Epoch 79/150\n",
      "60000/60000 [==============================] - 0s 1us/sample - loss: 0.1361 - accuracy: 0.9450\n",
      "Epoch 80/150\n",
      "60000/60000 [==============================] - 0s 1us/sample - loss: 0.1360 - accuracy: 0.9451\n",
      "Epoch 81/150\n",
      "60000/60000 [==============================] - 0s 1us/sample - loss: 0.1363 - accuracy: 0.9455\n",
      "Epoch 82/150\n",
      "60000/60000 [==============================] - 0s 1us/sample - loss: 0.1361 - accuracy: 0.9443\n",
      "Epoch 83/150\n",
      "60000/60000 [==============================] - 0s 1us/sample - loss: 0.1359 - accuracy: 0.9446\n",
      "Epoch 84/150\n",
      "60000/60000 [==============================] - 0s 1us/sample - loss: 0.1349 - accuracy: 0.9457\n",
      "Epoch 85/150\n",
      "60000/60000 [==============================] - 0s 1us/sample - loss: 0.1353 - accuracy: 0.9459\n",
      "Epoch 86/150\n",
      "60000/60000 [==============================] - 0s 1us/sample - loss: 0.1349 - accuracy: 0.9453\n",
      "Epoch 87/150\n",
      "60000/60000 [==============================] - 0s 1us/sample - loss: 0.1349 - accuracy: 0.9459\n",
      "Epoch 88/150\n",
      "60000/60000 [==============================] - 0s 1us/sample - loss: 0.1353 - accuracy: 0.9456\n",
      "Epoch 89/150\n",
      "60000/60000 [==============================] - 0s 1us/sample - loss: 0.1339 - accuracy: 0.9459\n",
      "Epoch 90/150\n",
      "60000/60000 [==============================] - 0s 1us/sample - loss: 0.1363 - accuracy: 0.9444\n",
      "Epoch 91/150\n",
      "60000/60000 [==============================] - 0s 1us/sample - loss: 0.1336 - accuracy: 0.9459\n",
      "Epoch 92/150\n",
      "60000/60000 [==============================] - 0s 1us/sample - loss: 0.1362 - accuracy: 0.9451\n",
      "Epoch 93/150\n",
      "60000/60000 [==============================] - 0s 1us/sample - loss: 0.1367 - accuracy: 0.9452\n",
      "Epoch 94/150\n",
      "60000/60000 [==============================] - 0s 1us/sample - loss: 0.1362 - accuracy: 0.9455\n",
      "Epoch 95/150\n",
      "60000/60000 [==============================] - 0s 1us/sample - loss: 0.1336 - accuracy: 0.9458\n",
      "Epoch 96/150\n",
      "60000/60000 [==============================] - 0s 1us/sample - loss: 0.1339 - accuracy: 0.9455\n",
      "Epoch 97/150\n",
      "60000/60000 [==============================] - 0s 1us/sample - loss: 0.1334 - accuracy: 0.9462\n",
      "Epoch 98/150\n",
      "60000/60000 [==============================] - 0s 1us/sample - loss: 0.1334 - accuracy: 0.9461\n",
      "Epoch 99/150\n",
      "60000/60000 [==============================] - 0s 1us/sample - loss: 0.1333 - accuracy: 0.9460\n",
      "Epoch 100/150\n",
      "60000/60000 [==============================] - 0s 1us/sample - loss: 0.1330 - accuracy: 0.9463\n",
      "Epoch 101/150\n",
      "60000/60000 [==============================] - 0s 1us/sample - loss: 0.1332 - accuracy: 0.9465\n",
      "Epoch 102/150\n",
      "60000/60000 [==============================] - 0s 1us/sample - loss: 0.1340 - accuracy: 0.9457\n",
      "Epoch 103/150\n",
      "60000/60000 [==============================] - 0s 1us/sample - loss: 0.1312 - accuracy: 0.9472\n",
      "Epoch 104/150\n",
      "60000/60000 [==============================] - 0s 1us/sample - loss: 0.1329 - accuracy: 0.9463\n",
      "Epoch 105/150\n",
      "60000/60000 [==============================] - 0s 1us/sample - loss: 0.1329 - accuracy: 0.9462\n",
      "Epoch 106/150\n",
      "60000/60000 [==============================] - 0s 1us/sample - loss: 0.1365 - accuracy: 0.9455\n",
      "Epoch 107/150\n",
      "60000/60000 [==============================] - 0s 1us/sample - loss: 0.1331 - accuracy: 0.9456\n",
      "Epoch 108/150\n",
      "60000/60000 [==============================] - 0s 1us/sample - loss: 0.1326 - accuracy: 0.9464\n",
      "Epoch 109/150\n",
      "60000/60000 [==============================] - 0s 1us/sample - loss: 0.1325 - accuracy: 0.9464\n",
      "Epoch 110/150\n",
      "60000/60000 [==============================] - 0s 1us/sample - loss: 0.1311 - accuracy: 0.9470\n",
      "Epoch 111/150\n",
      "60000/60000 [==============================] - 0s 1us/sample - loss: 0.1312 - accuracy: 0.9469\n",
      "Epoch 112/150\n",
      "60000/60000 [==============================] - 0s 1us/sample - loss: 0.1313 - accuracy: 0.9468\n",
      "Epoch 113/150\n",
      "60000/60000 [==============================] - 0s 1us/sample - loss: 0.1316 - accuracy: 0.9468\n",
      "Epoch 114/150\n",
      "60000/60000 [==============================] - 0s 1us/sample - loss: 0.1305 - accuracy: 0.9479\n",
      "Epoch 115/150\n",
      "60000/60000 [==============================] - 0s 1us/sample - loss: 0.1310 - accuracy: 0.9465\n",
      "Epoch 116/150\n",
      "60000/60000 [==============================] - 0s 1us/sample - loss: 0.1295 - accuracy: 0.9479\n",
      "Epoch 117/150\n",
      "60000/60000 [==============================] - 0s 1us/sample - loss: 0.1301 - accuracy: 0.9475\n",
      "Epoch 118/150\n",
      "60000/60000 [==============================] - 0s 1us/sample - loss: 0.1304 - accuracy: 0.9470\n",
      "Epoch 119/150\n",
      "60000/60000 [==============================] - 0s 1us/sample - loss: 0.1303 - accuracy: 0.9471\n",
      "Epoch 120/150\n",
      "60000/60000 [==============================] - 0s 1us/sample - loss: 0.1307 - accuracy: 0.9470\n",
      "Epoch 121/150\n",
      "60000/60000 [==============================] - 0s 1us/sample - loss: 0.1317 - accuracy: 0.9468\n",
      "Epoch 122/150\n",
      "60000/60000 [==============================] - 0s 1us/sample - loss: 0.1330 - accuracy: 0.9456\n",
      "Epoch 123/150\n",
      "60000/60000 [==============================] - 0s 1us/sample - loss: 0.1300 - accuracy: 0.9470\n",
      "Epoch 124/150\n",
      "60000/60000 [==============================] - 0s 1us/sample - loss: 0.1312 - accuracy: 0.9466\n",
      "Epoch 125/150\n",
      "60000/60000 [==============================] - 0s 1us/sample - loss: 0.1299 - accuracy: 0.9479\n",
      "Epoch 126/150\n",
      "60000/60000 [==============================] - 0s 1us/sample - loss: 0.1281 - accuracy: 0.9483\n",
      "Epoch 127/150\n",
      "60000/60000 [==============================] - 0s 1us/sample - loss: 0.1305 - accuracy: 0.9477\n",
      "Epoch 128/150\n",
      "60000/60000 [==============================] - 0s 1us/sample - loss: 0.1293 - accuracy: 0.9477\n",
      "Epoch 129/150\n",
      "60000/60000 [==============================] - 0s 1us/sample - loss: 0.1292 - accuracy: 0.9484\n",
      "Epoch 130/150\n",
      "60000/60000 [==============================] - 0s 1us/sample - loss: 0.1285 - accuracy: 0.9477\n",
      "Epoch 131/150\n",
      "60000/60000 [==============================] - 0s 1us/sample - loss: 0.1312 - accuracy: 0.9468\n",
      "Epoch 132/150\n",
      "60000/60000 [==============================] - 0s 1us/sample - loss: 0.1287 - accuracy: 0.9480\n",
      "Epoch 133/150\n",
      "60000/60000 [==============================] - 0s 1us/sample - loss: 0.1289 - accuracy: 0.9481\n",
      "Epoch 134/150\n",
      "60000/60000 [==============================] - 0s 1us/sample - loss: 0.1288 - accuracy: 0.9478\n",
      "Epoch 135/150\n",
      "60000/60000 [==============================] - 0s 1us/sample - loss: 0.1295 - accuracy: 0.9480\n",
      "Epoch 136/150\n",
      "60000/60000 [==============================] - 0s 1us/sample - loss: 0.1289 - accuracy: 0.9485\n",
      "Epoch 137/150\n",
      "60000/60000 [==============================] - 0s 1us/sample - loss: 0.1295 - accuracy: 0.9482\n",
      "Epoch 138/150\n",
      "60000/60000 [==============================] - 0s 1us/sample - loss: 0.1287 - accuracy: 0.9484\n",
      "Epoch 139/150\n",
      "60000/60000 [==============================] - 0s 1us/sample - loss: 0.1283 - accuracy: 0.9491\n",
      "Epoch 140/150\n",
      "60000/60000 [==============================] - 0s 1us/sample - loss: 0.1291 - accuracy: 0.9482\n",
      "Epoch 141/150\n",
      "60000/60000 [==============================] - 0s 1us/sample - loss: 0.1273 - accuracy: 0.9489\n",
      "Epoch 142/150\n",
      "60000/60000 [==============================] - 0s 1us/sample - loss: 0.1287 - accuracy: 0.9477\n",
      "Epoch 143/150\n",
      "60000/60000 [==============================] - 0s 1us/sample - loss: 0.1296 - accuracy: 0.9476\n",
      "Epoch 144/150\n",
      "60000/60000 [==============================] - 0s 1us/sample - loss: 0.1260 - accuracy: 0.9501\n",
      "Epoch 145/150\n",
      "60000/60000 [==============================] - 0s 1us/sample - loss: 0.1266 - accuracy: 0.9497\n",
      "Epoch 146/150\n",
      "60000/60000 [==============================] - 0s 1us/sample - loss: 0.1263 - accuracy: 0.9494\n",
      "Epoch 147/150\n",
      "60000/60000 [==============================] - 0s 1us/sample - loss: 0.1281 - accuracy: 0.9489\n",
      "Epoch 148/150\n",
      "60000/60000 [==============================] - 0s 1us/sample - loss: 0.1259 - accuracy: 0.9500\n",
      "Epoch 149/150\n",
      "60000/60000 [==============================] - 0s 1us/sample - loss: 0.1274 - accuracy: 0.9490\n",
      "Epoch 150/150\n",
      "60000/60000 [==============================] - 0s 1us/sample - loss: 0.1284 - accuracy: 0.9489\n"
     ]
    }
   ],
   "source": [
    "adam = tf.keras.optimizers.Adam()\n",
    "model.compile(optimizer=adam, loss='binary_crossentropy', metrics=['accuracy'])\n",
    "\n",
    "history = model.fit(X_train, y_train, batch_size=1024, epochs=150) "
   ]
  },
  {
   "cell_type": "markdown",
   "metadata": {},
   "source": [
    "We can also plot the loss curve using the same function as above."
   ]
  },
  {
   "cell_type": "code",
   "execution_count": 12,
   "metadata": {},
   "outputs": [
    {
     "data": {
      "image/png": "[encoded data removed]",
      "text/plain": [
       "<Figure size 432x288 with 1 Axes>"
      ]
     },
     "metadata": {
      "needs_background": "light"
     },
     "output_type": "display_data"
    }
   ],
   "source": [
    "plot_costs(history.history[\"loss\"])"
   ]
  },
  {
   "cell_type": "markdown",
   "metadata": {},
   "source": [
    "The model can also be evaluated on the test set with familiar code."
   ]
  },
  {
   "cell_type": "code",
   "execution_count": 13,
   "metadata": {},
   "outputs": [
    {
     "name": "stdout",
     "output_type": "stream",
     "text": [
      "Accuracy: 0.9488\n",
      "F1: 0.6817\n"
     ]
    }
   ],
   "source": [
    "y_pred = model.predict(X_test)\n",
    "y_pred = np.array(y_pred > 0.5, dtype=int).squeeze()\n",
    "\n",
    "accuracy = accuracy_score(y_test, y_pred)\n",
    "f1 = f1_score(y_test, y_pred)\n",
    "\n",
    "print(\"Accuracy: %.4f\" % accuracy)\n",
    "print(\"F1: %.4f\" % f1)"
   ]
  },
  {
   "cell_type": "code",
   "execution_count": null,
   "metadata": {},
   "outputs": [],
   "source": []
  }
 ],
 "metadata": {
  "kernelspec": {
   "display_name": "Python 3",
   "language": "python",
   "name": "python3"
  },
  "language_info": {
   "codemirror_mode": {
    "name": "ipython",
    "version": 3
   },
   "file_extension": ".py",
   "mimetype": "text/x-python",
   "name": "python",
   "nbconvert_exporter": "python",
   "pygments_lexer": "ipython3",
   "version": "3.7.3"
  }
 },
 "nbformat": 4,
 "nbformat_minor": 2
}
