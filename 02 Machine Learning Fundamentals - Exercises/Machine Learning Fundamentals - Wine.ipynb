{
 "cells": [
  {
   "cell_type": "markdown",
   "metadata": {},
   "source": [
    "# Machine Learning Fundamentals\n",
    "\n",
    "Today we will implement two simple content-based recommender systems. During the semester we will have a lecture on recommender systems where we look in depth about content-based and collaborative filtering recommender systems.\n",
    "\n",
    "The main goal of this exercise is to get an understanding why similarities and normalization are very important for Machine Learning. "
   ]
  },
  {
   "cell_type": "code",
   "execution_count": 5,
   "metadata": {},
   "outputs": [
    {
     "name": "stderr",
     "output_type": "stream",
     "text": [
      "[nltk_data] Downloading package stopwords to\n",
      "[nltk_data]     /Users/stofers/nltk_data...\n",
      "[nltk_data]   Package stopwords is already up-to-date!\n",
      "[nltk_data] Downloading package wordnet to /Users/stofers/nltk_data...\n",
      "[nltk_data]   Package wordnet is already up-to-date!\n",
      "[nltk_data] Downloading package punkt to /Users/stofers/nltk_data...\n",
      "[nltk_data]   Package punkt is already up-to-date!\n"
     ]
    }
   ],
   "source": [
    "import numpy as np\n",
    "import pandas as pd\n",
    "import scipy\n",
    "import matplotlib.pyplot as plt\n",
    "import seaborn as sns\n",
    "import skimage\n",
    "import skimage.io\n",
    "\n",
    "from sklearn.preprocessing import StandardScaler\n",
    "from sklearn.preprocessing import MinMaxScaler\n",
    "from sklearn.decomposition import PCA\n",
    "from sklearn.neighbors import NearestNeighbors\n",
    "\n",
    "from tqdm.notebook import tqdm\n",
    "import ipywidgets as widgets\n",
    "\n",
    "import nltk\n",
    "from nltk.corpus import stopwords\n",
    "from nltk.stem import WordNetLemmatizer, SnowballStemmer\n",
    "nltk.download('stopwords')\n",
    "nltk.download('wordnet')\n",
    "nltk.download('punkt')\n",
    "\n",
    "import warnings\n",
    "from sklearn.exceptions import DataConversionWarning\n",
    "warnings.filterwarnings(action='ignore', category=DataConversionWarning)\n",
    "\n",
    "%matplotlib inline"
   ]
  },
  {
   "cell_type": "markdown",
   "metadata": {},
   "source": [
    "## Exercise 2 - Simple recommender system for wine based on similarities"
   ]
  },
  {
   "cell_type": "markdown",
   "metadata": {},
   "source": [
    "We move now from cars to wine.\n",
    "On Kaggle there exists a popular [dataset](https://www.kaggle.com/zynicide/wine-reviews) which consists of 130'000 wine reviews. We want to build a recommender system that recommends us a wine based on its description. "
   ]
  },
  {
   "cell_type": "markdown",
   "metadata": {},
   "source": [
    "### Prepare the dataset"
   ]
  },
  {
   "cell_type": "code",
   "execution_count": 6,
   "metadata": {},
   "outputs": [
    {
     "data": {
      "text/html": [
       "<div>\n",
       "<style scoped>\n",
       "    .dataframe tbody tr th:only-of-type {\n",
       "        vertical-align: middle;\n",
       "    }\n",
       "\n",
       "    .dataframe tbody tr th {\n",
       "        vertical-align: top;\n",
       "    }\n",
       "\n",
       "    .dataframe thead th {\n",
       "        text-align: right;\n",
       "    }\n",
       "</style>\n",
       "<table border=\"1\" class=\"dataframe\">\n",
       "  <thead>\n",
       "    <tr style=\"text-align: right;\">\n",
       "      <th></th>\n",
       "      <th>description</th>\n",
       "      <th>title</th>\n",
       "    </tr>\n",
       "  </thead>\n",
       "  <tbody>\n",
       "    <tr>\n",
       "      <th>0</th>\n",
       "      <td>Aromas include tropical fruit, broom, brimston...</td>\n",
       "      <td>Nicosia 2013 Vulkà Bianco  (Etna)</td>\n",
       "    </tr>\n",
       "    <tr>\n",
       "      <th>1</th>\n",
       "      <td>This is ripe and fruity, a wine that is smooth...</td>\n",
       "      <td>Quinta dos Avidagos 2011 Avidagos Red (Douro)</td>\n",
       "    </tr>\n",
       "    <tr>\n",
       "      <th>2</th>\n",
       "      <td>Tart and snappy, the flavors of lime flesh and...</td>\n",
       "      <td>Rainstorm 2013 Pinot Gris (Willamette Valley)</td>\n",
       "    </tr>\n",
       "    <tr>\n",
       "      <th>3</th>\n",
       "      <td>Pineapple rind, lemon pith and orange blossom ...</td>\n",
       "      <td>St. Julian 2013 Reserve Late Harvest Riesling ...</td>\n",
       "    </tr>\n",
       "    <tr>\n",
       "      <th>4</th>\n",
       "      <td>Much like the regular bottling from 2012, this...</td>\n",
       "      <td>Sweet Cheeks 2012 Vintner's Reserve Wild Child...</td>\n",
       "    </tr>\n",
       "  </tbody>\n",
       "</table>\n",
       "</div>"
      ],
      "text/plain": [
       "                                         description  \\\n",
       "0  Aromas include tropical fruit, broom, brimston...   \n",
       "1  This is ripe and fruity, a wine that is smooth...   \n",
       "2  Tart and snappy, the flavors of lime flesh and...   \n",
       "3  Pineapple rind, lemon pith and orange blossom ...   \n",
       "4  Much like the regular bottling from 2012, this...   \n",
       "\n",
       "                                               title  \n",
       "0                  Nicosia 2013 Vulkà Bianco  (Etna)  \n",
       "1      Quinta dos Avidagos 2011 Avidagos Red (Douro)  \n",
       "2      Rainstorm 2013 Pinot Gris (Willamette Valley)  \n",
       "3  St. Julian 2013 Reserve Late Harvest Riesling ...  \n",
       "4  Sweet Cheeks 2012 Vintner's Reserve Wild Child...  "
      ]
     },
     "execution_count": 6,
     "metadata": {},
     "output_type": "execute_result"
    }
   ],
   "source": [
    "df = pd.read_csv(\"winemag-data-10k.csv\")\n",
    "df.head()"
   ]
  },
  {
   "cell_type": "markdown",
   "metadata": {},
   "source": [
    "Next we will check if the dataset contains any duplicates. And since the dataset contains duplicates, we will remove them and check again for duplicates."
   ]
  },
  {
   "cell_type": "code",
   "execution_count": 7,
   "metadata": {},
   "outputs": [
    {
     "name": "stdout",
     "output_type": "stream",
     "text": [
      "dataset contains duplicates: True\n",
      "len dataset: 10010\n",
      "dataset contains duplicates (after cleaning): False\n",
      "len dataset (after cleaning): 9970\n"
     ]
    }
   ],
   "source": [
    "print('dataset contains duplicates: %s' % df.duplicated().any())\n",
    "print('len dataset: %s' % str(len(df)))\n",
    "df.drop_duplicates(inplace=True)\n",
    "print('dataset contains duplicates (after cleaning): %s' % df.duplicated().any())\n",
    "print('len dataset (after cleaning): %s' % str(len(df)))"
   ]
  },
  {
   "cell_type": "markdown",
   "metadata": {},
   "source": [
    "Since the text in the dataset, both for the description and the title contains upper and lower case letters, it is good to convert it to a similar format, such as both to lower case. This is specifically needed for the next step, where we will remove all of the stopwords according to a dictionary. If we would not convert the text to lowercase, we might miss removing some of the words."
   ]
  },
  {
   "cell_type": "code",
   "execution_count": 8,
   "metadata": {},
   "outputs": [
    {
     "data": {
      "text/html": [
       "<div>\n",
       "<style scoped>\n",
       "    .dataframe tbody tr th:only-of-type {\n",
       "        vertical-align: middle;\n",
       "    }\n",
       "\n",
       "    .dataframe tbody tr th {\n",
       "        vertical-align: top;\n",
       "    }\n",
       "\n",
       "    .dataframe thead th {\n",
       "        text-align: right;\n",
       "    }\n",
       "</style>\n",
       "<table border=\"1\" class=\"dataframe\">\n",
       "  <thead>\n",
       "    <tr style=\"text-align: right;\">\n",
       "      <th></th>\n",
       "      <th>description</th>\n",
       "      <th>title</th>\n",
       "    </tr>\n",
       "  </thead>\n",
       "  <tbody>\n",
       "    <tr>\n",
       "      <th>0</th>\n",
       "      <td>aromas include tropical fruit, broom, brimston...</td>\n",
       "      <td>nicosia 2013 vulkà bianco  (etna)</td>\n",
       "    </tr>\n",
       "    <tr>\n",
       "      <th>1</th>\n",
       "      <td>this is ripe and fruity, a wine that is smooth...</td>\n",
       "      <td>quinta dos avidagos 2011 avidagos red (douro)</td>\n",
       "    </tr>\n",
       "    <tr>\n",
       "      <th>2</th>\n",
       "      <td>tart and snappy, the flavors of lime flesh and...</td>\n",
       "      <td>rainstorm 2013 pinot gris (willamette valley)</td>\n",
       "    </tr>\n",
       "    <tr>\n",
       "      <th>3</th>\n",
       "      <td>pineapple rind, lemon pith and orange blossom ...</td>\n",
       "      <td>st. julian 2013 reserve late harvest riesling ...</td>\n",
       "    </tr>\n",
       "    <tr>\n",
       "      <th>4</th>\n",
       "      <td>much like the regular bottling from 2012, this...</td>\n",
       "      <td>sweet cheeks 2012 vintner's reserve wild child...</td>\n",
       "    </tr>\n",
       "  </tbody>\n",
       "</table>\n",
       "</div>"
      ],
      "text/plain": [
       "                                         description  \\\n",
       "0  aromas include tropical fruit, broom, brimston...   \n",
       "1  this is ripe and fruity, a wine that is smooth...   \n",
       "2  tart and snappy, the flavors of lime flesh and...   \n",
       "3  pineapple rind, lemon pith and orange blossom ...   \n",
       "4  much like the regular bottling from 2012, this...   \n",
       "\n",
       "                                               title  \n",
       "0                  nicosia 2013 vulkà bianco  (etna)  \n",
       "1      quinta dos avidagos 2011 avidagos red (douro)  \n",
       "2      rainstorm 2013 pinot gris (willamette valley)  \n",
       "3  st. julian 2013 reserve late harvest riesling ...  \n",
       "4  sweet cheeks 2012 vintner's reserve wild child...  "
      ]
     },
     "execution_count": 8,
     "metadata": {},
     "output_type": "execute_result"
    }
   ],
   "source": [
    "df['description'] = df['description'].str.lower()\n",
    "df['title'] = df['title'].str.lower()\n",
    "df.head()"
   ]
  },
  {
   "cell_type": "markdown",
   "metadata": {},
   "source": [
    "We normalize the description by tokenizing all the words and then applying lemmatization and stemming."
   ]
  },
  {
   "cell_type": "code",
   "execution_count": 9,
   "metadata": {},
   "outputs": [],
   "source": [
    "stemmer = SnowballStemmer(\"english\")\n",
    "stop_words = set(stopwords.words('english'))\n",
    "\n",
    "def lemmatize_stemming(text):\n",
    "    return stemmer.stem(WordNetLemmatizer().lemmatize(text, pos='v'))\n",
    "    \n",
    "def normalize(text):\n",
    "    tokens = nltk.word_tokenize(text)\n",
    "    result = [lemmatize_stemming(token) for token in tokens \n",
    "              if token not in stop_words and len(token) > 3]\n",
    "    return result\n",
    "\n",
    "df[\"normalized\"] = df.description.apply(lambda x: normalize(x))"
   ]
  },
  {
   "cell_type": "markdown",
   "metadata": {},
   "source": [
    "Now our dataset looks like this."
   ]
  },
  {
   "cell_type": "code",
   "execution_count": 10,
   "metadata": {},
   "outputs": [
    {
     "data": {
      "text/html": [
       "<div>\n",
       "<style scoped>\n",
       "    .dataframe tbody tr th:only-of-type {\n",
       "        vertical-align: middle;\n",
       "    }\n",
       "\n",
       "    .dataframe tbody tr th {\n",
       "        vertical-align: top;\n",
       "    }\n",
       "\n",
       "    .dataframe thead th {\n",
       "        text-align: right;\n",
       "    }\n",
       "</style>\n",
       "<table border=\"1\" class=\"dataframe\">\n",
       "  <thead>\n",
       "    <tr style=\"text-align: right;\">\n",
       "      <th></th>\n",
       "      <th>description</th>\n",
       "      <th>title</th>\n",
       "      <th>normalized</th>\n",
       "    </tr>\n",
       "  </thead>\n",
       "  <tbody>\n",
       "    <tr>\n",
       "      <th>0</th>\n",
       "      <td>aromas include tropical fruit, broom, brimston...</td>\n",
       "      <td>nicosia 2013 vulkà bianco  (etna)</td>\n",
       "      <td>[aroma, includ, tropic, fruit, broom, brimston...</td>\n",
       "    </tr>\n",
       "    <tr>\n",
       "      <th>1</th>\n",
       "      <td>this is ripe and fruity, a wine that is smooth...</td>\n",
       "      <td>quinta dos avidagos 2011 avidagos red (douro)</td>\n",
       "      <td>[ripe, fruiti, wine, smooth, still, structur, ...</td>\n",
       "    </tr>\n",
       "    <tr>\n",
       "      <th>2</th>\n",
       "      <td>tart and snappy, the flavors of lime flesh and...</td>\n",
       "      <td>rainstorm 2013 pinot gris (willamette valley)</td>\n",
       "      <td>[tart, snappi, flavor, lime, flesh, rind, domi...</td>\n",
       "    </tr>\n",
       "    <tr>\n",
       "      <th>3</th>\n",
       "      <td>pineapple rind, lemon pith and orange blossom ...</td>\n",
       "      <td>st. julian 2013 reserve late harvest riesling ...</td>\n",
       "      <td>[pineappl, rind, lemon, pith, orang, blossom, ...</td>\n",
       "    </tr>\n",
       "    <tr>\n",
       "      <th>4</th>\n",
       "      <td>much like the regular bottling from 2012, this...</td>\n",
       "      <td>sweet cheeks 2012 vintner's reserve wild child...</td>\n",
       "      <td>[much, like, regular, bottl, 2012, come, acros...</td>\n",
       "    </tr>\n",
       "  </tbody>\n",
       "</table>\n",
       "</div>"
      ],
      "text/plain": [
       "                                         description  \\\n",
       "0  aromas include tropical fruit, broom, brimston...   \n",
       "1  this is ripe and fruity, a wine that is smooth...   \n",
       "2  tart and snappy, the flavors of lime flesh and...   \n",
       "3  pineapple rind, lemon pith and orange blossom ...   \n",
       "4  much like the regular bottling from 2012, this...   \n",
       "\n",
       "                                               title  \\\n",
       "0                  nicosia 2013 vulkà bianco  (etna)   \n",
       "1      quinta dos avidagos 2011 avidagos red (douro)   \n",
       "2      rainstorm 2013 pinot gris (willamette valley)   \n",
       "3  st. julian 2013 reserve late harvest riesling ...   \n",
       "4  sweet cheeks 2012 vintner's reserve wild child...   \n",
       "\n",
       "                                          normalized  \n",
       "0  [aroma, includ, tropic, fruit, broom, brimston...  \n",
       "1  [ripe, fruiti, wine, smooth, still, structur, ...  \n",
       "2  [tart, snappi, flavor, lime, flesh, rind, domi...  \n",
       "3  [pineappl, rind, lemon, pith, orang, blossom, ...  \n",
       "4  [much, like, regular, bottl, 2012, come, acros...  "
      ]
     },
     "execution_count": 10,
     "metadata": {},
     "output_type": "execute_result"
    }
   ],
   "source": [
    "df.head()"
   ]
  },
  {
   "cell_type": "markdown",
   "metadata": {},
   "source": [
    "We again take some of our training data as our test set."
   ]
  },
  {
   "cell_type": "code",
   "execution_count": 11,
   "metadata": {},
   "outputs": [],
   "source": [
    "train = df.iloc[:9960]\n",
    "test = df.iloc[9960:]\n",
    "\n",
    "X_train = train[\"normalized\"].values\n",
    "X_test = test[\"normalized\"].values"
   ]
  },
  {
   "cell_type": "markdown",
   "metadata": {},
   "source": [
    "To calculate our similarities, we only consider the normalized descriptions. For the first wine in our training set it looks like this:"
   ]
  },
  {
   "cell_type": "code",
   "execution_count": 12,
   "metadata": {},
   "outputs": [
    {
     "data": {
      "text/plain": [
       "['aroma',\n",
       " 'includ',\n",
       " 'tropic',\n",
       " 'fruit',\n",
       " 'broom',\n",
       " 'brimston',\n",
       " 'dri',\n",
       " 'herb',\n",
       " 'palat',\n",
       " 'over',\n",
       " 'express',\n",
       " 'offer',\n",
       " 'unripen',\n",
       " 'appl',\n",
       " 'citrus',\n",
       " 'dri',\n",
       " 'sage',\n",
       " 'alongsid',\n",
       " 'brisk',\n",
       " 'acid']"
      ]
     },
     "execution_count": 12,
     "metadata": {},
     "output_type": "execute_result"
    }
   ],
   "source": [
    "X_train[0]"
   ]
  },
  {
   "cell_type": "markdown",
   "metadata": {},
   "source": [
    "### Define similarity"
   ]
  },
  {
   "cell_type": "markdown",
   "metadata": {},
   "source": [
    "To compare two wines, we use the jaccard similarity.\n",
    "> Implement the jaccard similarity"
   ]
  },
  {
   "cell_type": "code",
   "execution_count": 32,
   "metadata": {},
   "outputs": [],
   "source": [
    "def jaccard_similarity(list1, list2):\n",
    "    similarity = 0\n",
    "    # START YOUR CODE\n",
    "    intersect = set.intersection(set(list1), set(list2))\n",
    "    union = set(list1 + list2)\n",
    "    \n",
    "    similarity = len(intersect)/len(union)\n",
    "    # END YOUR CODE\n",
    "    return similarity"
   ]
  },
  {
   "cell_type": "markdown",
   "metadata": {},
   "source": [
    "If your code is correct, the following cell should run without an error.\n",
    "> Verify your code"
   ]
  },
  {
   "cell_type": "code",
   "execution_count": 33,
   "metadata": {},
   "outputs": [
    {
     "name": "stdout",
     "output_type": "stream",
     "text": [
      "0.05405405405405406\n"
     ]
    }
   ],
   "source": [
    "expected_similarity = 0.05405405405405406\n",
    "similarity = jaccard_similarity(X_train[0], X_train[1])\n",
    "print(similarity)\n",
    "np.testing.assert_equal(expected_similarity, similarity)"
   ]
  },
  {
   "cell_type": "markdown",
   "metadata": {},
   "source": [
    "### Visualize similarities\n",
    "We can visualize the similarity between the wines using a heatmeap. Let us show how similar the first 40 wines are. The darker the box in the heatmap, the more similar they are."
   ]
  },
  {
   "cell_type": "code",
   "execution_count": 34,
   "metadata": {},
   "outputs": [
    {
     "data": {
      "image/png": "[encoded data removed]",
      "text/plain": [
       "<Figure size 1296x864 with 2 Axes>"
      ]
     },
     "metadata": {
      "needs_background": "light"
     },
     "output_type": "display_data"
    }
   ],
   "source": [
    "dm = np.asarray([[jaccard_similarity(p1, p2) \n",
    "                  for p1 in X_train[0:40]] \n",
    "                    for p2 in X_train[0:40]])\n",
    "fig, ax = plt.subplots(figsize=(18,12))    \n",
    "ax = sns.heatmap(dm, linewidth=0.5, cmap=\"YlGnBu\")\n",
    "plt.show()"
   ]
  },
  {
   "cell_type": "markdown",
   "metadata": {},
   "source": [
    "### Find most similar wine\n",
    "> Now implement the `nearest_neighbor` function, which returns the index of the most similar wine and the similarity value. *Hint: We use now a similarity measure instead of a distance measure*."
   ]
  },
  {
   "cell_type": "code",
   "execution_count": 50,
   "metadata": {},
   "outputs": [],
   "source": [
    "def nearest_neighbor(wine, wines):\n",
    "    idx = -1\n",
    "    similarity = -1\n",
    "    #wines = set(wines)\n",
    "    # START YOUR CODE\n",
    "    similarities = np.asarray([jaccard_similarity(wine, w) for w in wines])\n",
    "    idx = np.argmax(similarities)\n",
    "    similarity = np.amax(similarities)\n",
    "    # END YOUR CODE\n",
    "    return idx, similarity"
   ]
  },
  {
   "cell_type": "markdown",
   "metadata": {},
   "source": [
    "If your code is correct, the following cell should run without an error."
   ]
  },
  {
   "cell_type": "code",
   "execution_count": 51,
   "metadata": {},
   "outputs": [
    {
     "name": "stdout",
     "output_type": "stream",
     "text": [
      "Most similar wine: domaine pfister 2011 tradition pinot gris (alsace)\n",
      "Similarity:  0.30303030303030304\n"
     ]
    }
   ],
   "source": [
    "wine = X_test[0]\n",
    "\n",
    "expected_similarity = 0.30303030303030304\n",
    "idx, similarity = nearest_neighbor(wine, X_train)\n",
    "np.testing.assert_equal(expected_similarity, similarity)\n",
    "\n",
    "most_similar = train.iloc[[idx]]\n",
    "\n",
    "print(\"Most similar wine: {}\".format(most_similar.title.values[0]))\n",
    "print(\"Similarity: \", similarity)"
   ]
  },
  {
   "cell_type": "markdown",
   "metadata": {},
   "source": [
    "### Play around with our recommender system\n",
    "We can now use our recommender system to get a wine recommendation based on its description."
   ]
  },
  {
   "cell_type": "code",
   "execution_count": 52,
   "metadata": {},
   "outputs": [
    {
     "data": {
      "application/vnd.jupyter.widget-view+json": {
       "model_id": "5d6495172c47417fbfaa5d916f836be4",
       "version_major": 2,
       "version_minor": 0
      },
      "text/plain": [
       "interactive(children=(Dropdown(description='Wine title', options=('bouchard aîné & fils 2011 cuvée signature  …"
      ]
     },
     "metadata": {},
     "output_type": "display_data"
    }
   ],
   "source": [
    "@widgets.interact(wine_title=widgets.Dropdown(options=sorted(test.title), description=\"Wine title\"))\n",
    "def recommend(wine_title):\n",
    "    wine = X_test[test[\"title\"] == wine_title][0]\n",
    "    idx, similarity = nearest_neighbor(wine, X_train)\n",
    "    \n",
    "    most_similar = train.iloc[[idx]]\n",
    "    print(\"Most similar wine: '{}' with a similarity of {:2f}\".format(most_similar.title.values[0], similarity))"
   ]
  },
  {
   "cell_type": "markdown",
   "metadata": {},
   "source": [
    "## Assignment"
   ]
  },
  {
   "cell_type": "markdown",
   "metadata": {},
   "source": [
    "Now answer the ILIAS quiz **Machine Learning Fundamentals**."
   ]
  },
  {
   "cell_type": "code",
   "execution_count": null,
   "metadata": {},
   "outputs": [],
   "source": []
  }
 ],
 "metadata": {
  "kernelspec": {
   "display_name": "Python 3",
   "language": "python",
   "name": "python3"
  },
  "language_info": {
   "codemirror_mode": {
    "name": "ipython",
    "version": 3
   },
   "file_extension": ".py",
   "mimetype": "text/x-python",
   "name": "python",
   "nbconvert_exporter": "python",
   "pygments_lexer": "ipython3",
   "version": "3.7.3"
  }
 },
 "nbformat": 4,
 "nbformat_minor": 4
}
